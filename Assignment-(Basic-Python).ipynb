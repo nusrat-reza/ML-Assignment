{
 "cells": [
  {
   "cell_type": "markdown",
   "id": "1eebdc6b",
   "metadata": {},
   "source": [
    "# 1. Find the Largest of Two Numbers"
   ]
  },
  {
   "cell_type": "code",
   "execution_count": 3,
   "id": "9d70b203",
   "metadata": {},
   "outputs": [
    {
     "name": "stdout",
     "output_type": "stream",
     "text": [
      "6\n"
     ]
    }
   ],
   "source": [
    "a = 5\n",
    "b = 6\n",
    "if (a > b):\n",
    "    print(a)\n",
    "else:\n",
    "    print(b)"
   ]
  },
  {
   "cell_type": "markdown",
   "id": "150a60f0",
   "metadata": {},
   "source": [
    "# 2. Print Numbers from 1 to N"
   ]
  },
  {
   "cell_type": "code",
   "execution_count": 9,
   "id": "4a0524e5",
   "metadata": {},
   "outputs": [
    {
     "name": "stdout",
     "output_type": "stream",
     "text": [
      "N = 3\n",
      "1\n",
      "2\n",
      "3\n"
     ]
    }
   ],
   "source": [
    "n = int(input(\"N = \"))\n",
    "i = 1\n",
    "while (i < n + 1):\n",
    "    print (i)\n",
    "    i = i + 1"
   ]
  },
  {
   "cell_type": "markdown",
   "id": "dac15762",
   "metadata": {},
   "source": [
    "# 3. Check if a Number is Positive or Negative"
   ]
  },
  {
   "cell_type": "code",
   "execution_count": 11,
   "id": "26e03491",
   "metadata": {},
   "outputs": [
    {
     "name": "stdout",
     "output_type": "stream",
     "text": [
      "Enter a number: 0\n",
      "It is a positive number.\n"
     ]
    }
   ],
   "source": [
    "n = int(input(\"Enter a number: \"))\n",
    "if (n < 0):\n",
    "    print(\"It is a negative number.\")\n",
    "else:\n",
    "    print(\"It is a positive number.\")"
   ]
  },
  {
   "cell_type": "markdown",
   "id": "8b177407",
   "metadata": {},
   "source": [
    "# 4. Calculate the Sum of Digits"
   ]
  },
  {
   "cell_type": "code",
   "execution_count": 18,
   "id": "892aef87",
   "metadata": {},
   "outputs": [
    {
     "name": "stdout",
     "output_type": "stream",
     "text": [
      "Enter number: 23\n",
      "sum_of_digits:  5\n"
     ]
    }
   ],
   "source": [
    "n = int(input(\"Enter number: \"))\n",
    "sum_of_digits = 0\n",
    "\n",
    "while n > 0:\n",
    "    digit = n % 10\n",
    "    sum_of_digits += digit\n",
    "    n //= 10\n",
    "print(\"sum_of_digits: \",sum_of_digits)"
   ]
  },
  {
   "cell_type": "markdown",
   "id": "81f09917",
   "metadata": {},
   "source": [
    "# 5. Find Factorial of a Number# "
   ]
  },
  {
   "cell_type": "code",
   "execution_count": 26,
   "id": "aed88eff",
   "metadata": {},
   "outputs": [
    {
     "name": "stdout",
     "output_type": "stream",
     "text": [
      "Enter number: 4\n",
      "24\n"
     ]
    }
   ],
   "source": [
    "n = int(input(\"Enter number: \"))\n",
    "factorial_of_given_number = 1\n",
    "\n",
    "while n > 1:\n",
    "    factorial_of_given_number = n * factorial_of_given_number\n",
    "    n = n - 1\n",
    "\n",
    "print(factorial_of_given_number)"
   ]
  },
  {
   "cell_type": "markdown",
   "id": "fecea2c2",
   "metadata": {},
   "source": [
    "# 6. Count Occurrences of a Digit# "
   ]
  },
  {
   "cell_type": "code",
   "execution_count": 2,
   "id": "508d888d",
   "metadata": {},
   "outputs": [
    {
     "name": "stdout",
     "output_type": "stream",
     "text": [
      "Enter a number: 12423112355555\n",
      "Digit with maximum occurence: 5\n"
     ]
    }
   ],
   "source": [
    "n = int(input(\"Enter a number: \"))\n",
    "n = abs(n)\n",
    "digit_count = [0] * 10\n",
    "\n",
    "while n > 0:\n",
    "    digit = n % 10\n",
    "    digit_count[digit] += 1\n",
    "    n //= 10\n",
    "max_count = max(digit_count)\n",
    "max_digit = digit_count.index(max_count)\n",
    "print(\"Digit with maximum occurence:\", max_digit)"
   ]
  },
  {
   "cell_type": "markdown",
   "id": "5cad76f4",
   "metadata": {},
   "source": [
    "# 7. Find the greatest common divisor(GCD) of Two Numbers"
   ]
  },
  {
   "cell_type": "code",
   "execution_count": 3,
   "id": "e91673cf",
   "metadata": {},
   "outputs": [
    {
     "name": "stdout",
     "output_type": "stream",
     "text": [
      "Enter 1st number:8\n",
      "Enter 2nd number:12\n",
      "GCD is: 4\n"
     ]
    }
   ],
   "source": [
    "a = int(input(\"Enter 1st number: \"))\n",
    "b = int(input(\"Enter 2nd number: \"))\n",
    "\n",
    "a = abs(a)\n",
    "b = abs(b)\n",
    "\n",
    "smaller = min(a, b)\n",
    "gcd = 1\n",
    "\n",
    "for i in range(1, smaller + 1):\n",
    "    if a % i == 0 and b % i == 0:\n",
    "        gcd = i\n",
    "print(\"GCD is:\", gcd)"
   ]
  },
  {
   "cell_type": "markdown",
   "id": "b3327a0c",
   "metadata": {},
   "source": [
    "# 8. Reverse a String"
   ]
  },
  {
   "cell_type": "code",
   "execution_count": 4,
   "id": "139f2b3e",
   "metadata": {},
   "outputs": [
    {
     "name": "stdout",
     "output_type": "stream",
     "text": [
      "Write the string: hello\n",
      "olleh\n"
     ]
    }
   ],
   "source": [
    "string = input(\"Write the string: \")\n",
    "reverse_str = string[::-1]\n",
    "print(reverse_str)"
   ]
  },
  {
   "cell_type": "markdown",
   "id": "eec5d401",
   "metadata": {},
   "source": [
    "# 9. Check Armstrong Number"
   ]
  },
  {
   "cell_type": "code",
   "execution_count": 25,
   "id": "911140ed",
   "metadata": {},
   "outputs": [
    {
     "name": "stdout",
     "output_type": "stream",
     "text": [
      "Enter a number: 153\n",
      "This is an Armstrong number.\n"
     ]
    }
   ],
   "source": [
    "n = int(input(\"Enter a number: \"))\n",
    "original_num = n\n",
    "armst_sum  = 0\n",
    "num_digits = len(str(n))\n",
    "\n",
    "while n > 0:\n",
    "    digit = n % 10\n",
    "    armst_sum += digit ** num_digits\n",
    "    n //= 10\n",
    "if armst_sum == original_num:\n",
    "    print(\"This is an Armstrong number.\")\n",
    "else:\n",
    "    print(\"This is not an Armstrong number.\")"
   ]
  },
  {
   "cell_type": "markdown",
   "id": "8b4ead76",
   "metadata": {},
   "source": [
    "# 10. Generate a Pattern"
   ]
  },
  {
   "cell_type": "code",
   "execution_count": 28,
   "id": "24a9fbed",
   "metadata": {},
   "outputs": [
    {
     "name": "stdout",
     "output_type": "stream",
     "text": [
      "Enter a number: 3\n",
      "  *\n",
      " ***\n",
      "*****\n"
     ]
    }
   ],
   "source": [
    "n = int(input(\"Enter a number: \"))\n",
    "\n",
    "for i in range (1, n+1):\n",
    "    print(\" \"*(n-i)+ \"*\"*(2*i-1))"
   ]
  }
 ],
 "metadata": {
  "kernelspec": {
   "display_name": "Python 3 (ipykernel)",
   "language": "python",
   "name": "python3"
  },
  "language_info": {
   "codemirror_mode": {
    "name": "ipython",
    "version": 3
   },
   "file_extension": ".py",
   "mimetype": "text/x-python",
   "name": "python",
   "nbconvert_exporter": "python",
   "pygments_lexer": "ipython3",
   "version": "3.10.9"
  }
 },
 "nbformat": 4,
 "nbformat_minor": 5
}
